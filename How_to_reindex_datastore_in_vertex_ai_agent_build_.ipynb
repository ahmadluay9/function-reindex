{
  "cells": [
    {
      "cell_type": "markdown",
      "source": [
        "Link: [**Create a search data store**](https://cloud.google.com/generative-ai-app-builder/docs/create-data-store-es)"
      ],
      "metadata": {
        "id": "VSROivnnXb2O"
      }
    },
    {
      "cell_type": "code",
      "source": [
        "#!pip install --upgrade google-cloud-aiplatform\n",
        "#!pip install --upgrade google-cloud-discoveryengine"
      ],
      "metadata": {
        "colab": {
          "base_uri": "https://localhost:8080/",
          "height": 515
        },
        "id": "-uKBQeM90oCz",
        "outputId": "2eb73d60-2620-47bc-a9ba-37f690ac2f43"
      },
      "execution_count": null,
      "outputs": [
        {
          "output_type": "stream",
          "name": "stdout",
          "text": [
            "Collecting google-cloud-discoveryengine\n",
            "  Downloading google_cloud_discoveryengine-0.13.6-py3-none-any.whl.metadata (5.3 kB)\n",
            "Requirement already satisfied: google-api-core!=2.0.*,!=2.1.*,!=2.10.*,!=2.2.*,!=2.3.*,!=2.4.*,!=2.5.*,!=2.6.*,!=2.7.*,!=2.8.*,!=2.9.*,<3.0.0dev,>=1.34.1 in /usr/local/lib/python3.10/dist-packages (from google-api-core[grpc]!=2.0.*,!=2.1.*,!=2.10.*,!=2.2.*,!=2.3.*,!=2.4.*,!=2.5.*,!=2.6.*,!=2.7.*,!=2.8.*,!=2.9.*,<3.0.0dev,>=1.34.1->google-cloud-discoveryengine) (2.19.2)\n",
            "Requirement already satisfied: google-auth!=2.24.0,!=2.25.0,<3.0.0dev,>=2.14.1 in /usr/local/lib/python3.10/dist-packages (from google-cloud-discoveryengine) (2.27.0)\n",
            "Requirement already satisfied: proto-plus<2.0.0dev,>=1.22.3 in /usr/local/lib/python3.10/dist-packages (from google-cloud-discoveryengine) (1.25.0)\n",
            "Requirement already satisfied: protobuf!=4.21.0,!=4.21.1,!=4.21.2,!=4.21.3,!=4.21.4,!=4.21.5,<6.0.0dev,>=3.20.2 in /usr/local/lib/python3.10/dist-packages (from google-cloud-discoveryengine) (4.25.5)\n",
            "Requirement already satisfied: googleapis-common-protos<2.0.dev0,>=1.56.2 in /usr/local/lib/python3.10/dist-packages (from google-api-core!=2.0.*,!=2.1.*,!=2.10.*,!=2.2.*,!=2.3.*,!=2.4.*,!=2.5.*,!=2.6.*,!=2.7.*,!=2.8.*,!=2.9.*,<3.0.0dev,>=1.34.1->google-api-core[grpc]!=2.0.*,!=2.1.*,!=2.10.*,!=2.2.*,!=2.3.*,!=2.4.*,!=2.5.*,!=2.6.*,!=2.7.*,!=2.8.*,!=2.9.*,<3.0.0dev,>=1.34.1->google-cloud-discoveryengine) (1.66.0)\n",
            "Requirement already satisfied: requests<3.0.0.dev0,>=2.18.0 in /usr/local/lib/python3.10/dist-packages (from google-api-core!=2.0.*,!=2.1.*,!=2.10.*,!=2.2.*,!=2.3.*,!=2.4.*,!=2.5.*,!=2.6.*,!=2.7.*,!=2.8.*,!=2.9.*,<3.0.0dev,>=1.34.1->google-api-core[grpc]!=2.0.*,!=2.1.*,!=2.10.*,!=2.2.*,!=2.3.*,!=2.4.*,!=2.5.*,!=2.6.*,!=2.7.*,!=2.8.*,!=2.9.*,<3.0.0dev,>=1.34.1->google-cloud-discoveryengine) (2.32.3)\n",
            "Requirement already satisfied: grpcio<2.0dev,>=1.33.2 in /usr/local/lib/python3.10/dist-packages (from google-api-core[grpc]!=2.0.*,!=2.1.*,!=2.10.*,!=2.2.*,!=2.3.*,!=2.4.*,!=2.5.*,!=2.6.*,!=2.7.*,!=2.8.*,!=2.9.*,<3.0.0dev,>=1.34.1->google-cloud-discoveryengine) (1.69.0)\n",
            "Requirement already satisfied: grpcio-status<2.0.dev0,>=1.33.2 in /usr/local/lib/python3.10/dist-packages (from google-api-core[grpc]!=2.0.*,!=2.1.*,!=2.10.*,!=2.2.*,!=2.3.*,!=2.4.*,!=2.5.*,!=2.6.*,!=2.7.*,!=2.8.*,!=2.9.*,<3.0.0dev,>=1.34.1->google-cloud-discoveryengine) (1.62.3)\n",
            "Requirement already satisfied: cachetools<6.0,>=2.0.0 in /usr/local/lib/python3.10/dist-packages (from google-auth!=2.24.0,!=2.25.0,<3.0.0dev,>=2.14.1->google-cloud-discoveryengine) (5.5.0)\n",
            "Requirement already satisfied: pyasn1-modules>=0.2.1 in /usr/local/lib/python3.10/dist-packages (from google-auth!=2.24.0,!=2.25.0,<3.0.0dev,>=2.14.1->google-cloud-discoveryengine) (0.4.1)\n",
            "Requirement already satisfied: rsa<5,>=3.1.4 in /usr/local/lib/python3.10/dist-packages (from google-auth!=2.24.0,!=2.25.0,<3.0.0dev,>=2.14.1->google-cloud-discoveryengine) (4.9)\n",
            "Requirement already satisfied: pyasn1<0.7.0,>=0.4.6 in /usr/local/lib/python3.10/dist-packages (from pyasn1-modules>=0.2.1->google-auth!=2.24.0,!=2.25.0,<3.0.0dev,>=2.14.1->google-cloud-discoveryengine) (0.6.1)\n",
            "Requirement already satisfied: charset-normalizer<4,>=2 in /usr/local/lib/python3.10/dist-packages (from requests<3.0.0.dev0,>=2.18.0->google-api-core!=2.0.*,!=2.1.*,!=2.10.*,!=2.2.*,!=2.3.*,!=2.4.*,!=2.5.*,!=2.6.*,!=2.7.*,!=2.8.*,!=2.9.*,<3.0.0dev,>=1.34.1->google-api-core[grpc]!=2.0.*,!=2.1.*,!=2.10.*,!=2.2.*,!=2.3.*,!=2.4.*,!=2.5.*,!=2.6.*,!=2.7.*,!=2.8.*,!=2.9.*,<3.0.0dev,>=1.34.1->google-cloud-discoveryengine) (3.4.1)\n",
            "Requirement already satisfied: idna<4,>=2.5 in /usr/local/lib/python3.10/dist-packages (from requests<3.0.0.dev0,>=2.18.0->google-api-core!=2.0.*,!=2.1.*,!=2.10.*,!=2.2.*,!=2.3.*,!=2.4.*,!=2.5.*,!=2.6.*,!=2.7.*,!=2.8.*,!=2.9.*,<3.0.0dev,>=1.34.1->google-api-core[grpc]!=2.0.*,!=2.1.*,!=2.10.*,!=2.2.*,!=2.3.*,!=2.4.*,!=2.5.*,!=2.6.*,!=2.7.*,!=2.8.*,!=2.9.*,<3.0.0dev,>=1.34.1->google-cloud-discoveryengine) (3.10)\n",
            "Requirement already satisfied: urllib3<3,>=1.21.1 in /usr/local/lib/python3.10/dist-packages (from requests<3.0.0.dev0,>=2.18.0->google-api-core!=2.0.*,!=2.1.*,!=2.10.*,!=2.2.*,!=2.3.*,!=2.4.*,!=2.5.*,!=2.6.*,!=2.7.*,!=2.8.*,!=2.9.*,<3.0.0dev,>=1.34.1->google-api-core[grpc]!=2.0.*,!=2.1.*,!=2.10.*,!=2.2.*,!=2.3.*,!=2.4.*,!=2.5.*,!=2.6.*,!=2.7.*,!=2.8.*,!=2.9.*,<3.0.0dev,>=1.34.1->google-cloud-discoveryengine) (2.3.0)\n",
            "Requirement already satisfied: certifi>=2017.4.17 in /usr/local/lib/python3.10/dist-packages (from requests<3.0.0.dev0,>=2.18.0->google-api-core!=2.0.*,!=2.1.*,!=2.10.*,!=2.2.*,!=2.3.*,!=2.4.*,!=2.5.*,!=2.6.*,!=2.7.*,!=2.8.*,!=2.9.*,<3.0.0dev,>=1.34.1->google-api-core[grpc]!=2.0.*,!=2.1.*,!=2.10.*,!=2.2.*,!=2.3.*,!=2.4.*,!=2.5.*,!=2.6.*,!=2.7.*,!=2.8.*,!=2.9.*,<3.0.0dev,>=1.34.1->google-cloud-discoveryengine) (2024.12.14)\n",
            "Downloading google_cloud_discoveryengine-0.13.6-py3-none-any.whl (2.9 MB)\n",
            "\u001b[2K   \u001b[90m━━━━━━━━━━━━━━━━━━━━━━━━━━━━━━━━━━━━━━━━\u001b[0m \u001b[32m2.9/2.9 MB\u001b[0m \u001b[31m31.6 MB/s\u001b[0m eta \u001b[36m0:00:00\u001b[0m\n",
            "\u001b[?25hInstalling collected packages: google-cloud-discoveryengine\n",
            "Successfully installed google-cloud-discoveryengine-0.13.6\n"
          ]
        },
        {
          "output_type": "display_data",
          "data": {
            "application/vnd.colab-display-data+json": {
              "pip_warning": {
                "packages": [
                  "google"
                ]
              },
              "id": "60cc8752b8bd4453ae852a6913884e8b"
            }
          },
          "metadata": {}
        }
      ]
    },
    {
      "cell_type": "markdown",
      "source": [
        "# Create a Datastore"
      ],
      "metadata": {
        "id": "gCb_H1mT-p_4"
      }
    },
    {
      "cell_type": "code",
      "source": [
        "import os\n",
        "from google.api_core.client_options import ClientOptions\n",
        "from google.cloud import discoveryengine\n",
        "\n",
        "def create_data_store_sample(\n",
        "    project_id: str,\n",
        "    location: str,\n",
        "    data_store_id: str,\n",
        "    datastore_name: str\n",
        ") -> str:\n",
        "    #  For more information, refer to:\n",
        "    # https://cloud.google.com/generative-ai-app-builder/docs/locations#specify_a_multi-region_for_your_data_store\n",
        "    client_options = (\n",
        "        ClientOptions(api_endpoint=f\"{location}-discoveryengine.googleapis.com\")\n",
        "        if location != \"global\"\n",
        "        else None\n",
        "    )\n",
        "\n",
        "    # Create a client\n",
        "    client = discoveryengine.DataStoreServiceClient(client_options=client_options)\n",
        "\n",
        "    # The full resource name of the collection\n",
        "    # e.g. projects/{project}/locations/{location}/collections/default_collection\n",
        "    parent = client.collection_path(\n",
        "        project=project_id,\n",
        "        location=location,\n",
        "        collection=\"default_collection\",\n",
        "    )\n",
        "\n",
        "    data_store = discoveryengine.DataStore(\n",
        "        display_name= datastore_name,\n",
        "        # Options: GENERIC, MEDIA, HEALTHCARE_FHIR\n",
        "        industry_vertical=discoveryengine.IndustryVertical.GENERIC,\n",
        "        # Options: SOLUTION_TYPE_RECOMMENDATION, SOLUTION_TYPE_SEARCH, SOLUTION_TYPE_CHAT, SOLUTION_TYPE_GENERATIVE_CHAT\n",
        "        solution_types=[discoveryengine.SolutionType.SOLUTION_TYPE_CHAT],\n",
        "        # TODO(developer): Update content_config based on data store type.\n",
        "        # Options: NO_CONTENT, CONTENT_REQUIRED, PUBLIC_WEBSITE\n",
        "        content_config=discoveryengine.DataStore.ContentConfig.CONTENT_REQUIRED,\n",
        "    )\n",
        "\n",
        "    request = discoveryengine.CreateDataStoreRequest(\n",
        "        parent=parent,\n",
        "        data_store_id=data_store_id,\n",
        "        data_store=data_store,\n",
        "        # Optional: For Advanced Site Search Only\n",
        "        # create_advanced_site_search=True,\n",
        "    )\n",
        "\n",
        "    # Make the request\n",
        "    operation = client.create_data_store(request=request)\n",
        "\n",
        "    print(f\"Waiting for operation to complete: {operation.operation.name}\")\n",
        "    response = operation.result()\n",
        "\n",
        "    # After the operation is complete,\n",
        "    # get information from operation metadata\n",
        "    metadata = discoveryengine.CreateDataStoreMetadata(operation.metadata)\n",
        "\n",
        "    # Handle the response\n",
        "    print(response)\n",
        "    print(metadata)\n",
        "\n",
        "    return operation.operation.name"
      ],
      "metadata": {
        "id": "uP_128ld24vS"
      },
      "execution_count": null,
      "outputs": []
    },
    {
      "cell_type": "code",
      "source": [
        "project_id = \"[your-project-id]\"  # @param {type: \"string\", placeholder: \"[your-project-id]\", isTemplate: true}\n",
        "if not project_id or project_id == \"[your-project-id]\":\n",
        "    project_id = str(os.environ.get(\"GOOGLE_CLOUD_PROJECT\"))\n",
        "\n",
        "location = \"global\" #@param {type: \"string\", placeholder: \"us-central1\", isTemplate: true}\n",
        "\n",
        "#  datastore_id = \"projects/eikon-dev-ai-team/locations/global/collections/default_collection/dataStores/datastore-00_1738647792741\" # @param\n",
        "datastore_id = \"datastorechat-eikon-devai\" #@param\n",
        "# datastore_id = \"demo-doc_1717977266116\"\n",
        "# datastore_id = \"data-store-chat_1740372511341\" #@param\n",
        "\n",
        "datastore_name = \"Chat Data Store\" #@param {type: \"string\", placeholder: \"Chat Data Store\", isTemplate: true}"
      ],
      "metadata": {
        "id": "8cn__OkAwCk4"
      },
      "execution_count": null,
      "outputs": []
    },
    {
      "cell_type": "code",
      "source": [
        "gcs_bucket_name = \"demo_bucket_agent_builder_0\" #@param\n",
        "gcs_path_name = \"faq-document\" #@param\n",
        "gcs_pdf_file_name = \"Build a Gemini-Powered YouTube Summarizer  _  Google Codelabs.pdf\" #@param\n",
        "\n",
        "# gcs_uri = f\"gs://{gcs_bucket_name}/{gcs_pdf_file_name}\"\n",
        "gcs_uri = f\"gs://{gcs_bucket_name}/{gcs_path_name}/*.pdf\""
      ],
      "metadata": {
        "id": "f0VQmpu4BP4l"
      },
      "execution_count": null,
      "outputs": []
    },
    {
      "cell_type": "markdown",
      "source": [
        "\n",
        "\n",
        "---\n",
        "\n"
      ],
      "metadata": {
        "id": "JCPnSGmlUo2A"
      }
    },
    {
      "cell_type": "code",
      "source": [
        "create_data_store_sample(\n",
        "    project_id=project_id,\n",
        "    location=location,\n",
        "    data_store_id=datastore_id,\n",
        ")"
      ],
      "metadata": {
        "colab": {
          "base_uri": "https://localhost:8080/",
          "height": 348
        },
        "id": "nmZfElPK7rh0",
        "outputId": "fe4c2b17-bdce-4e94-d66f-d623b18a9c10"
      },
      "execution_count": null,
      "outputs": [
        {
          "output_type": "stream",
          "name": "stdout",
          "text": [
            "Waiting for operation to complete: projects/158103152291/locations/global/collections/default_collection/operations/create-data-store-15599008082268783659\n",
            "name: \"projects/158103152291/locations/global/collections/default_collection/dataStores/datastorechat-eikon-devai\"\n",
            "display_name: \"My Data Store Chat\"\n",
            "industry_vertical: GENERIC\n",
            "solution_types: SOLUTION_TYPE_CHAT\n",
            "default_schema_id: \"default_schema\"\n",
            "content_config: CONTENT_REQUIRED\n",
            "document_processing_config {\n",
            "  name: \"projects/158103152291/locations/global/collections/default_collection/dataStores/datastorechat-eikon-devai/documentProcessingConfig\"\n",
            "  default_parsing_config {\n",
            "    digital_parsing_config {\n",
            "    }\n",
            "  }\n",
            "}\n",
            "serving_config_data_store {\n",
            "}\n",
            "\n",
            "\n"
          ]
        },
        {
          "output_type": "execute_result",
          "data": {
            "text/plain": [
              "'projects/158103152291/locations/global/collections/default_collection/operations/create-data-store-15599008082268783659'"
            ],
            "application/vnd.google.colaboratory.intrinsic+json": {
              "type": "string"
            }
          },
          "metadata": {},
          "execution_count": 39
        }
      ]
    },
    {
      "cell_type": "markdown",
      "source": [
        "# Import documents"
      ],
      "metadata": {
        "id": "V980Ck0D-ytJ"
      }
    },
    {
      "cell_type": "code",
      "source": [
        "# TODO(developer): Uncomment these variables before running the sample.\n",
        "# project_id = \"YOUR_PROJECT_ID\"\n",
        "# location = \"YOUR_LOCATION\" # Values: \"global\"\n",
        "# datastore_id = \"YOUR_DATA_STORE_ID\"\n",
        "\n",
        "# Examples:\n",
        "# - Unstructured documents\n",
        "#   - `gs://bucket/directory/file.pdf`\n",
        "#   - `gs://bucket/directory/*.pdf`\n",
        "# - Unstructured documents with JSONL Metadata\n",
        "#   - `gs://bucket/directory/file.json`\n",
        "# - Unstructured documents with CSV Metadata\n",
        "#   - `gs://bucket/directory/file.csv`\n",
        "# gcs_uri = \"YOUR_GCS_PATH\"\n",
        "\n",
        "#  For more information, refer to:\n",
        "# https://cloud.google.com/generative-ai-app-builder/docs/locations#specify_a_multi-region_for_your_data_store\n",
        "client_options = (\n",
        "    ClientOptions(api_endpoint=f\"{location}-discoveryengine.googleapis.com\")\n",
        "    if location != \"global\"\n",
        "    else None\n",
        ")\n",
        "\n",
        "# Create a client\n",
        "client = discoveryengine.DocumentServiceClient(client_options=client_options)\n",
        "\n",
        "# The full resource name of the search engine branch.\n",
        "# e.g. projects/{project}/locations/{location}/dataStores/{datastore_id}/branches/{branch}\n",
        "parent = client.branch_path(\n",
        "    project=project_id,\n",
        "    location=location,\n",
        "    data_store=datastore_id,\n",
        "    branch=\"default_branch\",\n",
        ")\n",
        "\n",
        "request = discoveryengine.ImportDocumentsRequest(\n",
        "    parent=parent,\n",
        "    gcs_source=discoveryengine.GcsSource(\n",
        "        # Multiple URIs are supported\n",
        "        input_uris=[gcs_uri],\n",
        "        # Options:\n",
        "        # - `content` - Unstructured documents (PDF, HTML, DOC, TXT, PPTX)\n",
        "        # - `custom` - Unstructured documents with custom JSONL metadata\n",
        "        # - `document` - Structured documents in the discoveryengine.Document format.\n",
        "        # - `csv` - Unstructured documents with CSV metadata\n",
        "        data_schema=\"content\",\n",
        "    ),\n",
        "    # Options: `FULL`, `INCREMENTAL`\n",
        "    reconciliation_mode=discoveryengine.ImportDocumentsRequest.ReconciliationMode.INCREMENTAL,\n",
        ")\n",
        "\n",
        "# Make the request\n",
        "operation = client.import_documents(request=request)\n",
        "\n",
        "print(f\"Waiting for operation to complete: {operation.operation.name}\")\n",
        "response = operation.result()\n",
        "\n",
        "# After the operation is complete,\n",
        "# get information from operation metadata\n",
        "metadata = discoveryengine.ImportDocumentsMetadata(operation.metadata)\n",
        "\n",
        "# Handle the response\n",
        "print(response)\n",
        "print(metadata)"
      ],
      "metadata": {
        "id": "s2v6qHRV-x8X"
      },
      "execution_count": null,
      "outputs": []
    },
    {
      "cell_type": "code",
      "source": [
        "def import_documents_gcs(\n",
        "    project_id: str, location: str, datastore_id: str, gcs_uri: str\n",
        ") -> str:\n",
        "    \"\"\"Imports documents from Google Cloud Storage (GCS) into a Discovery Engine datastore.\n",
        "\n",
        "    Args:\n",
        "        project_id: Your Google Cloud Project ID.\n",
        "        location: The location of your Discovery Engine datastore (e.g., \"global\", \"us-central1\").\n",
        "        datastore_id: The ID of your Discovery Engine datastore.\n",
        "        gcs_uri: The Google Cloud Storage URI pointing to your documents.\n",
        "                   This can be a single file or a wildcard pattern (e.g., \"gs://bucket-name/path/to/documents/*.pdf\").\n",
        "\n",
        "    Returns:\n",
        "        str: The operation name of the import process, which can be used to track its status.\n",
        "    \"\"\"\n",
        "    client_options = (\n",
        "        ClientOptions(api_endpoint=f\"{location}-discoveryengine.googleapis.com\")\n",
        "        if location != \"global\"\n",
        "        else None\n",
        "    )\n",
        "\n",
        "    # Create a client\n",
        "    client = discoveryengine.DocumentServiceClient(client_options=client_options)\n",
        "\n",
        "    # The full resource name of the search engine branch.\n",
        "    parent = client.branch_path(\n",
        "        project=project_id,\n",
        "        location=location,\n",
        "        data_store=datastore_id,\n",
        "        branch=\"default_branch\"\n",
        "    )\n",
        "\n",
        "    request = discoveryengine.ImportDocumentsRequest(\n",
        "        parent=parent,\n",
        "        gcs_source=discoveryengine.GcsSource(\n",
        "            # Multiple URIs are supported\n",
        "            input_uris=[gcs_uri],\n",
        "            # Options:\n",
        "            # - `content` - Unstructured documents (PDF, HTML, DOC, TXT, PPTX)\n",
        "            # - `custom` - Unstructured documents with custom JSONL metadata\n",
        "            # - `document` - Structured documents in the discoveryengine.Document format.\n",
        "            # - `csv` - Unstructured documents with CSV metadata\n",
        "            data_schema=\"content\",\n",
        "        ),\n",
        "        # Options: `FULL`, `INCREMENTAL`\n",
        "        reconciliation_mode=discoveryengine.ImportDocumentsRequest.ReconciliationMode.INCREMENTAL,\n",
        "    )\n",
        "\n",
        "    # Make the request\n",
        "    operation = client.import_documents(request=request)\n",
        "\n",
        "    print(f\"Waiting for operation to complete: {operation.operation.name}\")\n",
        "    response = operation.result()\n",
        "\n",
        "    # After the operation is complete,\n",
        "    # get information from operation metadata\n",
        "    metadata = discoveryengine.ImportDocumentsMetadata(operation.metadata)\n",
        "\n",
        "    # Handle the response\n",
        "    print(response)\n",
        "    print(metadata)\n",
        "\n",
        "    return operation.operation.name"
      ],
      "metadata": {
        "id": "SQKP9lvPXadH"
      },
      "execution_count": null,
      "outputs": []
    },
    {
      "cell_type": "code",
      "source": [
        "import_documents_gcs(\n",
        "    project_id,\n",
        "    location,\n",
        "    datastore_id,\n",
        "    gcs_uri\n",
        ")"
      ],
      "metadata": {
        "colab": {
          "base_uri": "https://localhost:8080/",
          "height": 313
        },
        "id": "2MIbamSccxNg",
        "outputId": "2d428ef5-559e-483d-cdd7-8c1f2ac59c71"
      },
      "execution_count": null,
      "outputs": [
        {
          "output_type": "stream",
          "name": "stdout",
          "text": [
            "Waiting for operation to complete: projects/158103152291/locations/global/collections/default_collection/dataStores/datastorechat-eikon-devai/branches/0/operations/import-documents-10011971609147938399\n",
            "error_config {\n",
            "  gcs_prefix: \"gs://158103152291_asia_southeast2_import_content/errors10011971609147939828\"\n",
            "}\n",
            "\n",
            "create_time {\n",
            "  seconds: 1740388533\n",
            "  nanos: 671942000\n",
            "}\n",
            "update_time {\n",
            "  seconds: 1740388866\n",
            "  nanos: 831877000\n",
            "}\n",
            "success_count: 1\n",
            "total_count: 1\n",
            "\n"
          ]
        },
        {
          "output_type": "execute_result",
          "data": {
            "text/plain": [
              "'projects/158103152291/locations/global/collections/default_collection/dataStores/datastorechat-eikon-devai/branches/0/operations/import-documents-10011971609147938399'"
            ],
            "application/vnd.google.colaboratory.intrinsic+json": {
              "type": "string"
            }
          },
          "metadata": {},
          "execution_count": 56
        }
      ]
    }
  ],
  "metadata": {
    "colab": {
      "provenance": [],
      "name": "How_to_reindex_datastore_in_vertex_ai_agent_build_.ipynb"
    },
    "kernelspec": {
      "display_name": "Python 3",
      "name": "python3"
    }
  },
  "nbformat": 4,
  "nbformat_minor": 0
}